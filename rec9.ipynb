{
 "cells": [
  {
   "cell_type": "code",
   "execution_count": 1,
   "metadata": {},
   "outputs": [],
   "source": [
    "import numpy as np\n",
    "import pandas as pd\n",
    "import matplotlib.pyplot as plt\n",
    "import random"
   ]
  },
  {
   "cell_type": "code",
   "execution_count": 2,
   "metadata": {},
   "outputs": [],
   "source": [
    "a=4\n",
    "b=17"
   ]
  },
  {
   "cell_type": "code",
   "execution_count": 3,
   "metadata": {},
   "outputs": [
    {
     "data": {
      "text/plain": [
       "'foobar'"
      ]
     },
     "execution_count": 3,
     "metadata": {},
     "output_type": "execute_result"
    }
   ],
   "source": [
    "s1 = \"foo\"\n",
    "s2 = \"bar\"\n",
    "s1+s2"
   ]
  },
  {
   "cell_type": "code",
   "execution_count": 4,
   "metadata": {},
   "outputs": [
    {
     "name": "stdout",
     "output_type": "stream",
     "text": [
      "Print statement 1: 22\n",
      "Print statement 2:  4\n"
     ]
    },
    {
     "ename": "TypeError",
     "evalue": "unsupported operand type(s) for +: 'int' and 'str'",
     "output_type": "error",
     "traceback": [
      "\u001b[0;31m---------------------------------------------------------------------------\u001b[0m",
      "\u001b[0;31mTypeError\u001b[0m                                 Traceback (most recent call last)",
      "\u001b[0;32m<ipython-input-4-0d3b1f78a270>\u001b[0m in \u001b[0;36m<module>\u001b[0;34m\u001b[0m\n\u001b[1;32m      1\u001b[0m \u001b[0mprint\u001b[0m\u001b[0;34m(\u001b[0m\u001b[0;34m\"Print statement 1: \"\u001b[0m \u001b[0;34m+\u001b[0m \u001b[0;34m'2'\u001b[0m \u001b[0;34m+\u001b[0m \u001b[0;34m'2'\u001b[0m\u001b[0;34m)\u001b[0m\u001b[0;34m\u001b[0m\u001b[0;34m\u001b[0m\u001b[0m\n\u001b[1;32m      2\u001b[0m \u001b[0mprint\u001b[0m\u001b[0;34m(\u001b[0m\u001b[0;34m\"Print statement 2: \"\u001b[0m \u001b[0;34m,\u001b[0m  \u001b[0;36m2\u001b[0m  \u001b[0;34m+\u001b[0m  \u001b[0;36m2\u001b[0m \u001b[0;34m)\u001b[0m\u001b[0;34m\u001b[0m\u001b[0;34m\u001b[0m\u001b[0m\n\u001b[0;32m----> 3\u001b[0;31m \u001b[0mprint\u001b[0m\u001b[0;34m(\u001b[0m\u001b[0;34m\"Print statement 3: \"\u001b[0m \u001b[0;34m,\u001b[0m \u001b[0;36m2\u001b[0m \u001b[0;34m+\u001b[0m  \u001b[0;34m'2'\u001b[0m \u001b[0;34m)\u001b[0m\u001b[0;34m\u001b[0m\u001b[0;34m\u001b[0m\u001b[0m\n\u001b[0m",
      "\u001b[0;31mTypeError\u001b[0m: unsupported operand type(s) for +: 'int' and 'str'"
     ]
    }
   ],
   "source": [
    "print(\"Print statement 1: \" + '2' + '2')\n",
    "print(\"Print statement 2: \" ,  2  +  2 )\n",
    "print(\"Print statement 3: \" , 2 +  '2' )"
   ]
  },
  {
   "cell_type": "code",
   "execution_count": 5,
   "metadata": {},
   "outputs": [
    {
     "name": "stdout",
     "output_type": "stream",
     "text": [
      "Does your list correctly answer the question?  True\n"
     ]
    }
   ],
   "source": [
    "# These all create the same list\n",
    "lst1 = [0,1,2,3,4]    \n",
    "lst2 = list(range(5))\n",
    "lst3 = list(range(0,5))\n",
    "lst3 = list(range(0,5,1))   \n",
    "# range(start, end, incremental) \n",
    "# NOTE: range does not include the end number\n",
    "# Also pass your variable into the list() function to convert to a list\n",
    "\n",
    "### Your code\n",
    "yourList = list(range(7,21,1)) #?? - replace the []\n",
    "###\n",
    "\n",
    "print(\"Does your list correctly answer the question? \", yourList == [7,8,9,10,11,12,13,14,15,16,17,18,19,20])"
   ]
  },
  {
   "cell_type": "code",
   "execution_count": 6,
   "metadata": {},
   "outputs": [
    {
     "name": "stdout",
     "output_type": "stream",
     "text": [
      "7\n",
      "8\n",
      "20\n",
      "19\n"
     ]
    }
   ],
   "source": [
    "print(yourList[0]) # Accessing the first element\n",
    "print(yourList[1]) # Accessing the second element\n",
    "print(yourList[-1]) # Accessing the last element\n",
    "print(yourList[-2]) # Accessing the second to last element"
   ]
  },
  {
   "cell_type": "code",
   "execution_count": 7,
   "metadata": {},
   "outputs": [
    {
     "data": {
      "text/plain": [
       "1120"
      ]
     },
     "execution_count": 7,
     "metadata": {},
     "output_type": "execute_result"
    }
   ],
   "source": [
    "element1=yourList[0]\n",
    "element2=yourList[1]\n",
    "element3=yourList[-1]\n",
    "element1*element2*element3"
   ]
  },
  {
   "cell_type": "code",
   "execution_count": 9,
   "metadata": {},
   "outputs": [
    {
     "name": "stdout",
     "output_type": "stream",
     "text": [
      "2561327494111819440\n"
     ]
    }
   ],
   "source": [
    "def factNumber(x):\n",
    "  factorialList = [1,1]\n",
    "  i = 2\n",
    "  while(len(factorialList) - 1< x):\n",
    "    factorialList.append(factorialList[-1]*i)\n",
    "    i = i+1\n",
    "  return factorialList[-1]\n",
    "\n",
    "aggregateSum = 0\n",
    "for x in yourList:\n",
    "  aggregateSum=aggregateSum+factNumber(x)\n",
    "    ###\n",
    "# This you should print 2561327494111819440\n",
    "print(aggregateSum)"
   ]
  },
  {
   "cell_type": "code",
   "execution_count": 11,
   "metadata": {},
   "outputs": [
    {
     "name": "stdout",
     "output_type": "stream",
     "text": [
      "2561327494111819440\n"
     ]
    }
   ],
   "source": [
    "def yourFunc(someList):\n",
    "    aggregateSum=0\n",
    "    \n",
    "    for x in someList:\n",
    "        aggregateSum=aggregateSum+factNumber(x)\n",
    "    return aggregateSum\n",
    "        \n",
    "\n",
    "# Calling it should print the same as above\n",
    "print(yourFunc(yourList))"
   ]
  },
  {
   "cell_type": "code",
   "execution_count": 16,
   "metadata": {},
   "outputs": [],
   "source": [
    "import pandas as pd\n",
    "data=pd.read_csv(\"diabetic_data_orie3120_rec9.csv\")"
   ]
  },
  {
   "cell_type": "code",
   "execution_count": 17,
   "metadata": {},
   "outputs": [
    {
     "data": {
      "text/plain": [
       "pandas.core.frame.DataFrame"
      ]
     },
     "execution_count": 17,
     "metadata": {},
     "output_type": "execute_result"
    }
   ],
   "source": [
    "type(data)\n"
   ]
  },
  {
   "cell_type": "code",
   "execution_count": 20,
   "metadata": {},
   "outputs": [
    {
     "data": {
      "text/plain": [
       "79018     4\n",
       "18456     1\n",
       "19593     3\n",
       "68985     6\n",
       "61783     7\n",
       "71755     6\n",
       "89958     5\n",
       "12005     6\n",
       "56501     5\n",
       "68543     4\n",
       "17040     8\n",
       "17496     2\n",
       "97366     7\n",
       "65911     5\n",
       "1530      2\n",
       "16727     7\n",
       "32999     3\n",
       "50048     1\n",
       "47111     4\n",
       "83827    12\n",
       "Name: time_in_hospital, dtype: int64"
      ]
     },
     "execution_count": 20,
     "metadata": {},
     "output_type": "execute_result"
    }
   ],
   "source": [
    "data.time_in_hospital.sample(n=20)"
   ]
  },
  {
   "cell_type": "code",
   "execution_count": 22,
   "metadata": {},
   "outputs": [
    {
     "name": "stdout",
     "output_type": "stream",
     "text": [
      "92\n"
     ]
    }
   ],
   "source": [
    "def total_timeInHospital(someList):\n",
    "    aggregateSum=0;\n",
    "    for x in someList:\n",
    "        aggregateSum=aggregateSum+someList[x]\n",
    "    return aggregateSum\n",
    "\n",
    "print(total_timeInHospital(data.time_in_hospital.sample(n=20).to_list()))"
   ]
  },
  {
   "cell_type": "code",
   "execution_count": 23,
   "metadata": {},
   "outputs": [
    {
     "name": "stdout",
     "output_type": "stream",
     "text": [
      "64\n"
     ]
    }
   ],
   "source": [
    "print(total_timeInHospital(data.time_in_hospital.sample(n=20).to_list()))"
   ]
  },
  {
   "cell_type": "code",
   "execution_count": 24,
   "metadata": {},
   "outputs": [
    {
     "name": "stdout",
     "output_type": "stream",
     "text": [
      "126\n"
     ]
    }
   ],
   "source": [
    "print(total_timeInHospital(data.time_in_hospital.sample(n=20).to_list()))"
   ]
  },
  {
   "cell_type": "code",
   "execution_count": 31,
   "metadata": {},
   "outputs": [
    {
     "name": "stdout",
     "output_type": "stream",
     "text": [
      "[107, 80, 108, 67, 99, 92, 119, 74, 56, 68, 92, 66, 92, 101, 117, 79, 88, 95, 83, 64, 67, 70, 62, 76, 123, 50, 86, 93, 128, 60, 111, 81, 133, 75, 72, 64, 79, 70, 133, 98, 82, 82, 54, 105, 92, 102, 94, 117, 51, 94, 123, 74, 59, 62, 99, 128, 110, 80, 132, 85, 102, 67, 91, 90, 110, 95, 107, 149, 121, 85, 67, 69, 68, 64, 86, 94, 111, 73, 76, 44, 126, 76, 91, 143, 50, 85, 46, 89, 93, 93, 78, 75, 106, 40, 99, 51, 113, 77, 84, 111]\n"
     ]
    }
   ],
   "source": [
    "i=0\n",
    "durations=[]\n",
    "while (i<100):\n",
    "    oneduration=total_timeInHospital(data.time_in_hospital.sample(n=20).to_list())\n",
    "    durations.append(oneduration)\n",
    "    i=i+1\n",
    "\n",
    "print(durations)"
   ]
  },
  {
   "cell_type": "code",
   "execution_count": 33,
   "metadata": {},
   "outputs": [
    {
     "data": {
      "text/plain": [
       "100"
      ]
     },
     "execution_count": 33,
     "metadata": {},
     "output_type": "execute_result"
    }
   ],
   "source": [
    "len(durations)"
   ]
  },
  {
   "cell_type": "code",
   "execution_count": 35,
   "metadata": {},
   "outputs": [
    {
     "data": {
      "image/png": "[encoded data removed]",
      "text/plain": [
       "<Figure size 432x288 with 1 Axes>"
      ]
     },
     "metadata": {
      "needs_background": "light"
     },
     "output_type": "display_data"
    }
   ],
   "source": [
    "plt.hist(durations,bins=10)\n",
    "plt.show()"
   ]
  },
  {
   "cell_type": "code",
   "execution_count": 37,
   "metadata": {},
   "outputs": [
    {
     "data": {
      "text/plain": [
       "87.98"
      ]
     },
     "execution_count": 37,
     "metadata": {},
     "output_type": "execute_result"
    }
   ],
   "source": [
    "sum(durations)/len(durations)"
   ]
  },
  {
   "cell_type": "code",
   "execution_count": 47,
   "metadata": {},
   "outputs": [
    {
     "name": "stdout",
     "output_type": "stream",
     "text": [
      "4.85\n"
     ]
    }
   ],
   "source": [
    "##Q:shape of distribution:bell shaped normal distribution \n",
    "        #that's skewd to the left;\n",
    "##Q: (a) expected duration of stay for one patient: \n",
    "expectedForOne=sum(data.time_in_hospital.sample(n=20).to_list())/20\n",
    "print(expectedForOne)"
   ]
  },
  {
   "cell_type": "code",
   "execution_count": 50,
   "metadata": {},
   "outputs": [
    {
     "name": "stdout",
     "output_type": "stream",
     "text": [
      "0.89\n"
     ]
    }
   ],
   "source": [
    "##Q(b) true mean: 4.85*20=97\n",
    "##Q(c)this true mean>87.98, but subjected to variation as the \n",
    "##20 patients picked are random\n",
    "count=0\n",
    "for x in range(1,100):\n",
    "    a=durations[x]\n",
    "    if (a>=60):\n",
    "        count=count+1\n",
    "  \n",
    "print(count/100)"
   ]
  },
  {
   "cell_type": "code",
   "execution_count": 51,
   "metadata": {},
   "outputs": [
    {
     "name": "stdout",
     "output_type": "stream",
     "text": [
      "0.46\n"
     ]
    }
   ],
   "source": [
    "##at least three months\n",
    "count=0\n",
    "for x in range(1,100):\n",
    "    a=durations[x]\n",
    "    if (a>=90):\n",
    "        count=count+1\n",
    "  \n",
    "print(count/100)"
   ]
  },
  {
   "cell_type": "code",
   "execution_count": 52,
   "metadata": {},
   "outputs": [
    {
     "name": "stdout",
     "output_type": "stream",
     "text": [
      "87.0\n"
     ]
    }
   ],
   "source": [
    "##true mean of total stay time of 20 randomly selected stays\n",
    "expectedForOne=sum(data.time_in_hospital.sample(n=20).to_list())/20\n",
    "print(expectedForOne*20)"
   ]
  },
  {
   "cell_type": "code",
   "execution_count": 55,
   "metadata": {},
   "outputs": [
    {
     "name": "stdout",
     "output_type": "stream",
     "text": [
      "[70, 54, 100, 61, 57, 157, 91, 38, 134, 85, 118, 93, 72, 85, 77, 42, 80, 57, 52, 124, 56, 73, 45, 118, 51, 135, 79, 93, 111, 66, 84, 91, 68, 74, 128, 132, 127, 72, 59, 54, 114, 118, 133, 120, 79, 61, 74, 60, 95, 102, 108, 117, 74, 79, 68, 57, 83, 107, 73, 70, 77, 97, 84, 73, 57, 52, 67, 71, 125, 63, 101, 76, 59, 74, 103, 61, 131, 64, 73, 71, 62, 68, 108, 79, 87, 68, 70, 144, 82, 51, 84, 89, 103, 108, 95, 111, 118, 87, 62, 71, 68, 108, 76, 43, 94, 73, 118, 50, 76, 25, 138, 98, 98, 77, 120, 98, 89, 58, 97, 55, 121, 89, 102, 98, 95, 66, 113, 99, 87, 67, 69, 68, 74, 86, 67, 81, 69, 90, 44, 75, 75, 78, 112, 72, 98, 124, 86, 85, 103, 86, 73, 109, 85, 71, 87, 59, 104, 59, 84, 78, 79, 103, 121, 99, 46, 116, 82, 98, 85, 102, 84, 113, 96, 75, 81, 56, 106, 62, 120, 74, 46, 115, 71, 55, 69, 119, 97, 79, 70, 99, 54, 94, 79, 115, 114, 49, 83, 112, 115, 93, 130, 70, 88, 60, 67, 94, 72, 69, 79, 134, 117, 106, 71, 68, 102, 73, 80, 125, 64, 107, 85, 55, 84, 99, 103, 97, 108, 105, 71, 90, 102, 76, 107, 88, 117, 70, 97, 113, 91, 73, 135, 123, 74, 92, 71, 123, 111, 134, 89, 134, 76, 71, 53, 91, 86, 61, 85, 56, 79, 82, 110, 87, 85, 97, 97, 61, 47, 98, 70, 111, 110, 67, 89, 103, 93, 84, 90, 60, 66, 70, 100, 106, 121, 98, 125, 57, 101, 78, 44, 79, 44, 101, 78, 98, 122, 88, 60, 84, 91, 73, 60, 93, 84, 69, 71, 97, 47, 85, 120, 121, 107, 87, 85, 71, 56, 60, 99, 124, 108, 132, 106, 75, 98, 105, 125, 62, 63, 77, 133, 97, 108, 104, 55, 75, 113, 61, 73, 103, 72, 41, 80, 83, 53, 108, 77, 87, 90, 121, 51, 82, 47, 61, 63, 100, 90, 91, 70, 74, 51, 77, 102, 85, 108, 74, 93, 68, 90, 64, 80, 89, 85, 122, 58, 102, 84, 94, 85, 43, 79, 47, 75, 70, 89, 51, 89, 77, 102, 133, 89, 97, 119, 51, 161, 113, 90, 91, 87, 97, 93, 102, 93, 74, 97, 130, 63, 115, 44, 90, 75, 133, 86, 81, 79, 89, 76, 97, 89, 81, 66, 100, 114, 118, 121, 53, 111, 71, 64, 51, 98, 70, 56, 105, 98, 164, 60, 83, 72, 78, 117, 95, 77, 108, 68, 88, 93, 107, 40, 97, 127, 91, 85, 86, 102, 77, 92, 68, 81, 100, 84, 87, 97, 92, 73, 61, 133, 48, 106, 83, 86, 59, 110, 96, 69, 102, 77, 40, 70, 107, 106, 49, 97, 97, 126, 96, 61, 85, 92, 83, 76, 102, 103, 84, 100, 118, 94, 74, 94, 74, 34, 47, 66, 83, 122, 125, 96, 103, 95, 73, 141, 85, 91, 65, 60, 87, 106, 77, 65, 58, 77, 79, 67, 75, 100, 90, 114, 93, 69, 110, 70, 92, 64, 105, 59, 76, 94, 62, 62, 45, 107, 76, 100, 74, 79, 144, 71, 93, 113, 127, 87, 73, 89, 57, 161, 100, 79, 76, 69, 76, 75, 58, 90, 111, 60, 95, 73, 94, 103, 74, 63, 81, 101, 54, 64, 102, 90, 74, 91, 101, 112, 84, 72, 73, 95, 72, 105, 61, 93, 75, 78, 93, 115, 78, 64, 91, 96, 96, 106, 119, 83, 147, 92, 90, 45, 62, 94, 165, 70, 112, 87, 67, 90, 93, 48, 90, 86, 93, 58, 67, 94, 96, 72, 87, 89, 68, 103, 96, 54, 91, 71, 81, 52, 84, 79, 90, 104, 74, 71, 117, 82, 145, 123, 84, 44, 81, 60, 76, 80, 76, 89, 86, 72, 107, 50, 90, 70, 85, 68, 93, 108, 72, 51, 71, 102, 115, 60, 127, 155, 84, 92, 61, 94, 89, 83, 98, 61, 124, 73, 83, 54, 104, 64, 79, 80, 80, 77, 89, 79, 66, 65, 69, 85, 107, 76, 102, 147, 93, 87, 101, 78, 98, 128, 102, 126, 82, 66, 100, 102, 77, 89, 96, 98, 131, 102, 105, 53, 75, 83, 87, 82, 103, 128, 78, 132, 79, 132, 87, 103, 70, 114, 113, 69, 58, 90, 100, 102, 77, 87, 89, 107, 57, 57, 61, 76, 67, 77, 64, 93, 89, 78, 62, 141, 70, 78, 83, 98, 67, 83, 86, 68, 86, 110, 99, 121, 70, 78, 127, 117, 93, 86, 84, 71, 62, 63, 94, 111, 79, 74, 77, 83, 48, 102, 70, 85, 114, 53, 76, 98, 129, 47, 110, 85, 110, 99, 60, 111, 74, 97, 78, 94, 78, 81, 122, 67, 59, 136, 80, 83, 78, 143, 147, 73, 65, 64, 118, 57, 97, 59, 67, 67, 62, 101, 58, 100, 69, 85, 54, 79, 69, 72, 116, 88, 72, 74, 62, 75, 41, 69, 94, 77, 79, 46, 62, 74, 95, 67, 86, 82, 111, 93, 99, 96, 87, 114, 99, 99, 71, 62, 69, 87, 72, 82, 117, 111, 90, 91, 31, 92, 81, 91, 76, 140, 103, 67, 82, 112, 107, 80, 116, 97, 90, 77, 97, 80, 96, 125, 84, 74, 119, 57, 65, 94, 102, 63, 51, 67, 83, 76, 85, 146, 106, 81, 85, 74, 76, 79, 83, 70, 122, 135, 84, 76, 100, 85, 78, 79, 74, 35, 93, 124, 98, 72, 47, 121, 124, 65, 96, 106, 34, 99, 71, 84, 95, 81, 110, 127, 81, 95, 90, 85, 59, 68, 47, 82, 96, 95, 115, 75, 71, 64, 127, 88, 82, 86, 71, 114, 63, 82, 63, 63, 66, 95, 64, 78, 75, 94, 85, 105, 72, 93, 84, 83, 67, 72, 75, 73, 147, 117, 88, 69, 139, 85, 109, 104, 83, 78, 117, 97, 105, 87, 99, 93, 71, 96, 118, 83, 75, 77, 82, 83, 112]\n",
      "the empiral mean is 86.605\n"
     ]
    },
    {
     "data": {
      "image/png": "[encoded data removed]",
      "text/plain": [
       "<Figure size 432x288 with 1 Axes>"
      ]
     },
     "metadata": {
      "needs_background": "light"
     },
     "output_type": "display_data"
    }
   ],
   "source": [
    "##since the mean computed from 100 random samples was 87.98, this true mean is fairly close \n",
    "##to the mean; yet it's subjected to variation as each time the selected random samples would be different. \n",
    "\n",
    "# 1000 samples\n",
    "i=0\n",
    "durations1000=[]\n",
    "while (i<1000):\n",
    "    oneduration=total_timeInHospital(data.time_in_hospital.sample(n=20).to_list())\n",
    "    durations1000.append(oneduration)\n",
    "    i=i+1\n",
    "\n",
    "print(durations1000)\n",
    "print(\"the empiral mean is\", sum(durations1000)/len(durations1000))\n",
    "\n",
    "#print(np.mean(#your variable here))\n",
    "plt.hist(durations1000,bins=10);\n",
    "plt.show()\n"
   ]
  },
  {
   "cell_type": "code",
   "execution_count": null,
   "metadata": {},
   "outputs": [],
   "source": [
    "#the shape of historgram is less skewed; as we raise the sample size to 1000, or larger,\n",
    "##we would expect the histogram to look more and more similar to a bell shaped normal distribution. "
   ]
  }
 ],
 "metadata": {
  "kernelspec": {
   "display_name": "Python 3",
   "language": "python",
   "name": "python3"
  },
  "language_info": {
   "codemirror_mode": {
    "name": "ipython",
    "version": 3
   },
   "file_extension": ".py",
   "mimetype": "text/x-python",
   "name": "python",
   "nbconvert_exporter": "python",
   "pygments_lexer": "ipython3",
   "version": "3.7.6"
  }
 },
 "nbformat": 4,
 "nbformat_minor": 4
}
